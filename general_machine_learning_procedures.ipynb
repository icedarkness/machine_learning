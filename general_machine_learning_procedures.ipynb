{
 "cells": [
  {
   "cell_type": "markdown",
   "metadata": {},
   "source": [
    "# General Machine Learning Procedures"
   ]
  },
  {
   "cell_type": "markdown",
   "metadata": {},
   "source": [
    "## Part1 Data Pre-Processing"
   ]
  },
  {
   "cell_type": "markdown",
   "metadata": {},
   "source": [
    "### Read in data"
   ]
  },
  {
   "cell_type": "code",
   "execution_count": 4,
   "metadata": {
    "collapsed": false
   },
   "outputs": [
    {
     "name": "stdout",
     "output_type": "stream",
     "text": [
      "finished read in data\n"
     ]
    }
   ],
   "source": [
    "import numpy as np\n",
    "import pandas as pd\n",
    "import csv\n",
    "import re\n",
    "from IPython.display import display\n",
    "\n",
    "in_file = 'G:/onedrive/document/python_projects/uber/sTEF.csv'\n",
    "full_data = pd.read_csv(in_file)\n",
    "\n",
    "print \"finished read in data\"\n",
    "\n",
    "#display(full_data.head())"
   ]
  },
  {
   "cell_type": "markdown",
   "metadata": {},
   "source": [
    "### pre-processing datetime/categorical/null data"
   ]
  },
  {
   "cell_type": "markdown",
   "metadata": {},
   "source": [
    "#### processing categorical variable"
   ]
  },
  {
   "cell_type": "code",
   "execution_count": 7,
   "metadata": {
    "collapsed": false
   },
   "outputs": [
    {
     "name": "stdout",
     "output_type": "stream",
     "text": [
      "preprocessing categorical data\n"
     ]
    }
   ],
   "source": [
    "#processing categorical variable\n",
    "from sklearn import preprocessing\n",
    "for column in full_data:\n",
    "    if column in ('city_name','signup_os', 'signup_channel',\n",
    "                  'vehicle_make','vehicle_model'):\n",
    "        new_col = pd.get_dummies(full_data[column], \n",
    "                                 prefix=column, dummy_na=True)\n",
    "        full_data = pd.concat([full_data, new_col], axis=1)\n",
    "\n",
    "print \"preprocessing categorical data\"\n"
   ]
  },
  {
   "cell_type": "markdown",
   "metadata": {},
   "source": [
    "#### converting date object to date"
   ]
  },
  {
   "cell_type": "code",
   "execution_count": 8,
   "metadata": {
    "collapsed": false
   },
   "outputs": [
    {
     "name": "stdout",
     "output_type": "stream",
     "text": [
      "preprocessing datetime data\n"
     ]
    }
   ],
   "source": [
    "#converting date object to date\n",
    "full_data['signup_date'] = pd.to_datetime(full_data['signup_date'])\n",
    "full_data['bgc_date'] = pd.to_datetime(full_data['bgc_date'])\n",
    "full_data['vehicle_added_date'] = pd.to_datetime(full_data['vehicle_added_date'])\n",
    "full_data['first_completed_date'] = pd.to_datetime(\n",
    "    full_data['first_completed_date'])\n",
    "\n",
    "print \"preprocessing datetime data\""
   ]
  },
  {
   "cell_type": "markdown",
   "metadata": {},
   "source": [
    "#### processing target variable and null date feature and other calculation features"
   ]
  },
  {
   "cell_type": "code",
   "execution_count": 9,
   "metadata": {
    "collapsed": false
   },
   "outputs": [
    {
     "name": "stdout",
     "output_type": "stream",
     "text": [
      "preprocessing datetime/self-calculation data\n"
     ]
    }
   ],
   "source": [
    "new_features= pd.DataFrame(columns=[['id','isstart','null_bgc'\n",
    "                                     ,'null_vad','bgc_diff','vad_diff']])\n",
    "#processing target variable and null date feature and other calculation features\n",
    "for index, row in full_data.iterrows():\n",
    "    temp_id = row['id']\n",
    "    #processing null value in date\n",
    "    if pd.isnull(row['first_completed_date']) == True:\n",
    "        temp_isstart = 0\n",
    "    else:\n",
    "        temp_isstart = 1\n",
    "    if pd.isnull(row['bgc_date']) == True:\n",
    "        temp_null_bgc = 1\n",
    "    else:\n",
    "        temp_null_bgc = 0\n",
    "    if pd.isnull(row['vehicle_added_date']) == True:\n",
    "        temp_null_vad = 1\n",
    "    else:\n",
    "        temp_null_vad = 0\n",
    "    #processing date diff between signup date and other date\n",
    "    if pd.isnull(row['bgc_date']) == False:\n",
    "        bgc_diff = float((row['bgc_date'] - row['signup_date']).days)\n",
    "    else:\n",
    "        bgc_diff = 0\n",
    "    if pd.isnull(row['vehicle_added_date']) == False:\n",
    "        vad_diff = float((row['vehicle_added_date'] - row['signup_date'] ).days)\n",
    "    else:\n",
    "        vad_diff = 0\n",
    "        \n",
    "    new_features = new_features.append(\n",
    "        pd.DataFrame([[temp_id,temp_isstart, temp_null_bgc,\n",
    "                       temp_null_vad,bgc_diff,vad_diff]],\n",
    "                     columns=['id','isstart','null_bgc',\n",
    "                              'null_vad','bgc_diff','vad_diff']))\n",
    "                                                  \n",
    "new_features.index = range(len(new_features))\n",
    "full_data = pd.merge(full_data, new_features, on = 'id')\n",
    "\n",
    "print \"preprocessing datetime/self-calculation data\""
   ]
  },
  {
   "cell_type": "markdown",
   "metadata": {},
   "source": [
    "#### fill null data"
   ]
  },
  {
   "cell_type": "code",
   "execution_count": 10,
   "metadata": {
    "collapsed": false
   },
   "outputs": [
    {
     "name": "stdout",
     "output_type": "stream",
     "text": [
      "preprocessing null data\n"
     ]
    }
   ],
   "source": [
    "for column in full_data:\n",
    "    if column not in ('id','city_name','signup_os', 'signup_channel', \n",
    "                      'vehicle_make','vehicle_model','signup_date','bgc_date'\n",
    "                      ,'first_completed_date','vehicle_added_date','isstart'):\n",
    "        mean_value = int(float(full_data[column].mean(skipna=True, axis=0)))\n",
    "        full_data[column].fillna(mean_value, inplace=True)\n",
    "        \n",
    "print \"preprocessing null data\""
   ]
  },
  {
   "cell_type": "markdown",
   "metadata": {},
   "source": [
    "#### Random Shuffle and drop unuseful variable"
   ]
  },
  {
   "cell_type": "code",
   "execution_count": 12,
   "metadata": {
    "collapsed": false
   },
   "outputs": [
    {
     "name": "stdout",
     "output_type": "stream",
     "text": [
      "finished pre-processing data\n"
     ]
    },
    {
     "name": "stderr",
     "output_type": "stream",
     "text": [
      "E:\\tools\\Anaconda2\\lib\\site-packages\\ipykernel\\__main__.py:13: SettingWithCopyWarning: \n",
      "A value is trying to be set on a copy of a slice from a DataFrame\n",
      "\n",
      "See the caveats in the documentation: http://pandas.pydata.org/pandas-docs/stable/indexing.html#indexing-view-versus-copy\n"
     ]
    }
   ],
   "source": [
    "# RANDOM SHUFFLE DATA\n",
    "full_data_final = full_data.iloc[np.random.permutation(len(full_data))]\n",
    "full_data_final.index = range(len(full_data_final))\n",
    "\n",
    "#drop text and unuseful field\n",
    "target = full_data_final['isstart']\n",
    "target = [np.int(x) for x in target]\n",
    "\n",
    "full_data_final.drop(\n",
    "    ['id', 'isstart', 'first_completed_date','city_name' ,\n",
    "     'signup_os', 'signup_channel', 'vehicle_make','vehicle_model',\n",
    "     'signup_date', 'bgc_date', 'vehicle_added_date'],\n",
    "    axis=1, inplace=True)\n",
    "\n",
    "print \"finished pre-processing data\""
   ]
  },
  {
   "cell_type": "markdown",
   "metadata": {},
   "source": [
    "# Part2 Data Visualization"
   ]
  },
  {
   "cell_type": "markdown",
   "metadata": {},
   "source": [
    "## Hist Plot"
   ]
  },
  {
   "cell_type": "code",
   "execution_count": 15,
   "metadata": {
    "collapsed": false
   },
   "outputs": [
    {
     "data": {
      "image/png": "[encoded data removed]",
      "text/plain": [
       "<matplotlib.figure.Figure at 0x36a7ae80>"
      ]
     },
     "metadata": {},
     "output_type": "display_data"
    }
   ],
   "source": [
    "%matplotlib inline\n",
    "import matplotlib\n",
    "import matplotlib.pyplot as plt\n",
    "fig = plt.figure(figsize=(15, 15))\n",
    "fig.suptitle(\"Attributes Analysis\", fontsize=16)\n",
    "ax1 = plt.subplot(\"321\")\n",
    "ax1.set_title(\"#First Trip Complete with no Background Checked\")\n",
    "ax1.hist(full_data['isstart'][full_data.null_bgc==1])\n",
    "ax1.set_ylabel('#Count')\n",
    "\n",
    "ax2 = plt.subplot(\"322\")\n",
    "ax2.set_title(\"#First Trip Complete with Background Checked\")\n",
    "ax2.hist(full_data['isstart'][full_data.null_bgc==0])\n",
    "ax2.set_ylabel('#Count')\n",
    "\n",
    "ax3 = plt.subplot(\"323\")\n",
    "ax3.set_title(\"#First Trip Complete with no Vehicle Added\")\n",
    "ax3.hist(full_data['isstart'][full_data.null_vad==1])\n",
    "ax3.set_ylabel('#Count')\n",
    "\n",
    "ax4 = plt.subplot(\"324\")\n",
    "ax4.set_title(\"#First Trip Complete with Vehicle Added\")\n",
    "ax4.hist(full_data['isstart'][full_data.null_vad==0])\n",
    "ax4.set_ylabel('#Count')\n",
    "\n",
    "ax5 = plt.subplot(\"325\")\n",
    "ax5.set_title(\"#First Trip Complete By Days Diff of VAD and Signup\")\n",
    "ax5.hist(full_data['vad_diff'][(full_data.null_vad==0) & (full_data.isstart==1)])\n",
    "ax5.set_ylabel('#Count')\n",
    "\n",
    "ax6 = plt.subplot(\"326\")\n",
    "ax6.set_title(\"#First Trip Complete By Days Diff of BGC and Signup\")\n",
    "ax6.hist(full_data['bgc_diff'][(full_data.null_bgc==0) & (full_data.isstart==1)])\n",
    "ax6.set_ylabel('#Count')\n",
    "plt.show()\n"
   ]
  },
  {
   "cell_type": "markdown",
   "metadata": {},
   "source": [
    "## Stack Plot"
   ]
  },
  {
   "cell_type": "code",
   "execution_count": 21,
   "metadata": {
    "collapsed": false
   },
   "outputs": [
    {
     "data": {
      "image/png": "[encoded data removed]",
      "text/plain": [
       "<matplotlib.figure.Figure at 0x3376d080>"
      ]
     },
     "metadata": {},
     "output_type": "display_data"
    }
   ],
   "source": [
    "%matplotlib inline\n",
    "import matplotlib\n",
    "import matplotlib.pyplot as plt\n",
    "fig = plt.figure(figsize=(18, 12))\n",
    "group1 = full_data[['vehicle_year','isstart']][(full_data.null_vad==0) & (full_data.isstart==1)].groupby('vehicle_year').count()\n",
    "group1 = group1.reset_index(level=['vehicle_year'])\n",
    "group2 = full_data[['vehicle_year','isstart']][(full_data.null_vad==0) & (full_data.isstart==0)].groupby('vehicle_year').count()\n",
    "group2 = group2.reset_index(level=['vehicle_year'])\n",
    "group3 = group1.merge(group2,how='outer',on='vehicle_year')\n",
    "width = 0.5\n",
    "ax1 = plt.subplot(\"221\")\n",
    "ax1.set_title(\"#First Trip Complete By Vehicle_year\")\n",
    "ax1.bar(group3['vehicle_year'],group3['isstart_x'], width, color='b')\n",
    "ax1.bar(group3['vehicle_year'],group3['isstart_y'], width, color='g', bottom=group3['isstart_x'])\n",
    "ax1.legend(('#Have Fisrt Trip', '#No First trip'))\n",
    "\n",
    "group1 = full_data[['vad_diff','isstart']][(full_data.null_vad==0) & (full_data.isstart==1)].groupby('vad_diff').count()\n",
    "group1 = group1.reset_index(level=['vehicle_year'])\n",
    "group2 = full_data[['vad_diff','isstart']][(full_data.null_vad==0) & (full_data.isstart==0)].groupby('vad_diff').count()\n",
    "group2 = group2.reset_index(level=['vad_diff'])\n",
    "group3 = group1.merge(group2,how='outer',on='vad_diff')\n",
    "width = 0.5\n",
    "ax2 = plt.subplot(\"222\")\n",
    "ax2.set_title(\"#First Trip Complete By Days Diff of VAD\")\n",
    "ax2.bar(group3['vad_diff'],group3['isstart_x'], width, color='b')\n",
    "ax2.bar(group3['vad_diff'],group3['isstart_y'], width, color='g', bottom=group3['isstart_x'])\n",
    "ax2.legend(('#Have Fisrt Trip', '#No First trip'))\n",
    "\n",
    "plt.show()"
   ]
  },
  {
   "cell_type": "markdown",
   "metadata": {},
   "source": [
    "# Part3 Dimension Reduction and Feature Selection"
   ]
  },
  {
   "cell_type": "markdown",
   "metadata": {},
   "source": [
    "## Feature Selection"
   ]
  },
  {
   "cell_type": "markdown",
   "metadata": {},
   "source": [
    "### Random Forest Feature Importanace "
   ]
  },
  {
   "cell_type": "code",
   "execution_count": 25,
   "metadata": {
    "collapsed": false
   },
   "outputs": [
    {
     "data": {
      "text/plain": [
       "<matplotlib.axes._subplots.AxesSubplot at 0x365a11d0>"
      ]
     },
     "execution_count": 25,
     "metadata": {},
     "output_type": "execute_result"
    },
    {
     "data": {
      "image/png": "[encoded data removed]",
      "text/plain": [
       "<matplotlib.figure.Figure at 0x3325c6d8>"
      ]
     },
     "metadata": {},
     "output_type": "display_data"
    }
   ],
   "source": [
    "\n",
    "#feature importance\n",
    "\n",
    "from sklearn.ensemble import RandomForestClassifier\n",
    "import seaborn as sns\n",
    "randomforest = RandomForestClassifier(random_state=24, n_estimators=100)\n",
    "randomforest.fit(full_data_final, target)\n",
    "# display the relative importance of each attribute\n",
    "            \n",
    "top_features = np.array(sorted(zip(map(lambda x: round(x, 4), randomforest.feature_importances_), full_data_final.columns),\n",
    "                               reverse=True)[:15])\n",
    "\n",
    "top_f_name = list(top_features[:,1])\n",
    "full_data_reduced = full_data_final[top_f_name]\n",
    "top_f_score = top_features[:,0]\n",
    "\n",
    "#plot top n features\n",
    "%matplotlib inline\n",
    "plt.figure()\n",
    "plt.title(\"Feature Importance\")\n",
    "importance = [np.float(x) for x in top_features[:,0]]\n",
    "sns.barplot(y=full_data_reduced.columns, x=importance)"
   ]
  },
  {
   "cell_type": "markdown",
   "metadata": {},
   "source": [
    "### PCA Dimension Reduction"
   ]
  },
  {
   "cell_type": "markdown",
   "metadata": {},
   "source": [
    "#### Normalize Data"
   ]
  },
  {
   "cell_type": "code",
   "execution_count": 30,
   "metadata": {
    "collapsed": false
   },
   "outputs": [
    {
     "name": "stdout",
     "output_type": "stream",
     "text": [
      "finished normalization\n"
     ]
    }
   ],
   "source": [
    "#normalized data\n",
    "from sklearn.preprocessing import scale\n",
    "full_data_scaled = scale(full_data_final)\n",
    "print \"finished normalization\""
   ]
  },
  {
   "cell_type": "markdown",
   "metadata": {},
   "source": [
    "#### Calculate PCA Scores (Cross Validation VAR)"
   ]
  },
  {
   "cell_type": "code",
   "execution_count": null,
   "metadata": {
    "collapsed": true
   },
   "outputs": [],
   "source": [
    "#Plot and try to find best number of PCA/FA components\n",
    "%matplotlib inline\n",
    "import matplotlib.pyplot as plt\n",
    "from scipy import linalg\n",
    "\n",
    "from sklearn.decomposition import PCA\n",
    "from sklearn.cross_validation import cross_val_score\n",
    "from sklearn.grid_search import GridSearchCV\n",
    "\n",
    "n_components = np.arange(0, len(full_data_final.columns)/10, 1)  # options for n_components\n",
    "\n",
    "def compute_scores(X):\n",
    "    pca = PCA()\n",
    "    pca_scores= []\n",
    "    for n in n_components:\n",
    "        pca.n_components = n\n",
    "        pca_scores.append(np.mean(cross_val_score(pca, X)))\n",
    "\n",
    "    return pca_scores\n",
    "\n",
    "pca_scores= compute_scores(full_data_scaled)\n",
    "\n",
    "print \"PCA cross validation score finished\""
   ]
  },
  {
   "cell_type": "markdown",
   "metadata": {},
   "source": [
    "#### PCA Score Graphs Plot"
   ]
  },
  {
   "cell_type": "code",
   "execution_count": null,
   "metadata": {
    "collapsed": true
   },
   "outputs": [],
   "source": [
    "plt.figure('PCA')\n",
    "plt.title(\"PCA components\")\n",
    "plt.plot(n_components, pca_scores)"
   ]
  },
  {
   "cell_type": "markdown",
   "metadata": {},
   "source": [
    "#### Kaiser Methods and Scree Test"
   ]
  },
  {
   "cell_type": "markdown",
   "metadata": {},
   "source": [
    "##### Kaiser Methods"
   ]
  },
  {
   "cell_type": "code",
   "execution_count": 50,
   "metadata": {
    "collapsed": false
   },
   "outputs": [
    {
     "name": "stdout",
     "output_type": "stream",
     "text": [
      "Importance of components:\n"
     ]
    },
    {
     "data": {
      "text/html": [
       "<div>\n",
       "<table border=\"1\" class=\"dataframe\">\n",
       "  <thead>\n",
       "    <tr>\n",
       "      <th></th>\n",
       "      <th>sdev</th>\n",
       "      <th>varprop</th>\n",
       "      <th>cumprop</th>\n",
       "    </tr>\n",
       "    <tr>\n",
       "      <th></th>\n",
       "      <th>Standard deviation</th>\n",
       "      <th>Proportion of Variance</th>\n",
       "      <th>Cumulative Proportion</th>\n",
       "    </tr>\n",
       "  </thead>\n",
       "  <tbody>\n",
       "    <tr>\n",
       "      <th>PC1</th>\n",
       "      <td>2.337161</td>\n",
       "      <td>0.012615</td>\n",
       "      <td>0.012615</td>\n",
       "    </tr>\n",
       "    <tr>\n",
       "      <th>PC2</th>\n",
       "      <td>1.463245</td>\n",
       "      <td>0.004945</td>\n",
       "      <td>0.017560</td>\n",
       "    </tr>\n",
       "    <tr>\n",
       "      <th>PC3</th>\n",
       "      <td>1.447394</td>\n",
       "      <td>0.004838</td>\n",
       "      <td>0.022398</td>\n",
       "    </tr>\n",
       "    <tr>\n",
       "      <th>PC4</th>\n",
       "      <td>1.438492</td>\n",
       "      <td>0.004779</td>\n",
       "      <td>0.027177</td>\n",
       "    </tr>\n",
       "    <tr>\n",
       "      <th>PC5</th>\n",
       "      <td>1.431637</td>\n",
       "      <td>0.004733</td>\n",
       "      <td>0.031910</td>\n",
       "    </tr>\n",
       "  </tbody>\n",
       "</table>\n",
       "</div>"
      ],
      "text/plain": [
       "                  sdev                varprop               cumprop\n",
       "    Standard deviation Proportion of Variance Cumulative Proportion\n",
       "PC1           2.337161               0.012615              0.012615\n",
       "PC2           1.463245               0.004945              0.017560\n",
       "PC3           1.447394               0.004838              0.022398\n",
       "PC4           1.438492               0.004779              0.027177\n",
       "PC5           1.431637               0.004733              0.031910"
      ]
     },
     "metadata": {},
     "output_type": "display_data"
    },
    {
     "name": "stdout",
     "output_type": "stream",
     "text": [
      "Kaiser Methods\n",
      "number of components to keep: 50\n"
     ]
    }
   ],
   "source": [
    "from sklearn.decomposition import PCA\n",
    "pca = PCA(n_components = 50).fit(full_data_scaled)\n",
    "def pca_summary(pca, standardised_data, out=True):\n",
    "    names = [\"PC\"+str(i) for i in range(1, len(pca.explained_variance_ratio_)+1)]\n",
    "    a = list(np.std(pca.transform(standardised_data), axis=0))\n",
    "    b = list(pca.explained_variance_ratio_)\n",
    "    c = [np.sum(pca.explained_variance_ratio_[:i]) for i in range(1, len(pca.explained_variance_ratio_)+1)]\n",
    "    columns = pd.MultiIndex.from_tuples([(\"sdev\", \"Standard deviation\"), (\"varprop\", \"Proportion of Variance\"), (\"cumprop\", \"Cumulative Proportion\")])\n",
    "    summary = pd.DataFrame(zip(a, b, c), index=names, columns=columns)\n",
    "    if out:\n",
    "        print(\"Importance of components:\")\n",
    "        display(summary.head())\n",
    "    return summary\n",
    "\n",
    "summary = pca_summary(pca, full_data_scaled)\n",
    "\n",
    "print 'Kaiser Methods'\n",
    "\n",
    "sdev_df = summary.sdev\n",
    "print 'number of components to keep:',len(sdev_df[sdev_df['Standard deviation']>1])"
   ]
  },
  {
   "cell_type": "markdown",
   "metadata": {},
   "source": [
    "##### Scree Test"
   ]
  },
  {
   "cell_type": "code",
   "execution_count": 51,
   "metadata": {
    "collapsed": false
   },
   "outputs": [
    {
     "data": {
      "image/png": "[encoded data removed]",
      "text/plain": [
       "<matplotlib.figure.Figure at 0x36a66b38>"
      ]
     },
     "metadata": {},
     "output_type": "display_data"
    }
   ],
   "source": [
    "%matplotlib inline\n",
    "pca = PCA(n_components = 50).fit(full_data_scaled)\n",
    "import matplotlib.pyplot as plt\n",
    "def screeplot(pca, standardised_values):\n",
    "    y = np.std(pca.transform(standardised_values), axis=0)**2\n",
    "    x = np.arange(len(y)) + 1\n",
    "    plt.figure(figsize=(20, 20))\n",
    "    plt.plot(x, y, \"o-\")\n",
    "    plt.xticks(x, [\"Comp.\"+str(i) for i in x], rotation=60)\n",
    "    plt.ylabel(\"Variance\")\n",
    "    plt.show()\n",
    "\n",
    "screeplot(pca, full_data_scaled)"
   ]
  },
  {
   "cell_type": "markdown",
   "metadata": {},
   "source": [
    "#### Run PCA"
   ]
  },
  {
   "cell_type": "code",
   "execution_count": 58,
   "metadata": {
    "collapsed": true
   },
   "outputs": [],
   "source": [
    "#Try PCA do a dimensional reduction\n",
    "from sklearn.decomposition import PCA\n",
    "pca = PCA(n_components=15)\n",
    "full_data_pca = pca.fit_transform(full_data_scaled)"
   ]
  },
  {
   "cell_type": "markdown",
   "metadata": {},
   "source": [
    "#### Build a Polynomial dataset"
   ]
  },
  {
   "cell_type": "code",
   "execution_count": null,
   "metadata": {
    "collapsed": false
   },
   "outputs": [],
   "source": [
    "#Try polynomail\n",
    "from sklearn import preprocessing\n",
    "poly = preprocessing.PolynomialFeatures(2)\n",
    "full_data_pca_poly = poly.fit_transform(full_data_pca)"
   ]
  },
  {
   "cell_type": "markdown",
   "metadata": {},
   "source": [
    "# Part4 Model Selection with Cross Validation"
   ]
  },
  {
   "cell_type": "markdown",
   "metadata": {},
   "source": [
    "## Score Seletion"
   ]
  },
  {
   "cell_type": "markdown",
   "metadata": {},
   "source": [
    "### Classification using F1 Score"
   ]
  },
  {
   "cell_type": "code",
   "execution_count": 53,
   "metadata": {
    "collapsed": true
   },
   "outputs": [],
   "source": [
    "from sklearn.metrics import make_scorer, f1_score\n",
    "score = make_scorer(f1_score, greater_is_better=True)"
   ]
  },
  {
   "cell_type": "markdown",
   "metadata": {},
   "source": [
    "### None Classification use MSE"
   ]
  },
  {
   "cell_type": "code",
   "execution_count": 54,
   "metadata": {
    "collapsed": true
   },
   "outputs": [],
   "source": [
    "from sklearn.metrics import make_scorer, mean_squared_error\n",
    "score = make_scorer(f1_score, greater_is_better=False)"
   ]
  },
  {
   "cell_type": "markdown",
   "metadata": {},
   "source": [
    "## Pick Model and Parameters"
   ]
  },
  {
   "cell_type": "markdown",
   "metadata": {},
   "source": [
    "### Random Forest"
   ]
  },
  {
   "cell_type": "code",
   "execution_count": null,
   "metadata": {
    "collapsed": true
   },
   "outputs": [],
   "source": [
    "#Random Forest\n",
    "from sklearn import grid_search\n",
    "from sklearn.ensemble import RandomForestClassifier\n",
    "from sklearn.metrics import make_scorer, f1_score, accuracy_score\n",
    "randomforest = RandomForestClassifier(random_state=24, n_estimators=100)\n",
    "tree_score = make_scorer(f1_score, greater_is_better=True)\n",
    "parameters = {'max_depth': [x for x in range(8, 16)], 'min_samples_split': [x * 10 for x in range(5, 10)]}\n",
    "clf_rf = grid_search.GridSearchCV(estimator=randomforest, param_grid=parameters, cv=10, scoring=tree_score)\n",
    "clf_rf.fit(full_data_pca,target)\n",
    "print \"best parameter Random Forest\", clf_rf.best_estimator_\n",
    "print \"best score  Random Forest\", clf_rf.best_score_\n",
    " \n",
    "print 'finish Random Forest'"
   ]
  },
  {
   "cell_type": "markdown",
   "metadata": {},
   "source": [
    "### AdaBoost Decision Tree"
   ]
  },
  {
   "cell_type": "code",
   "execution_count": null,
   "metadata": {
    "collapsed": true
   },
   "outputs": [],
   "source": [
    "\n",
    "#AdaBoost Tree\n",
    "\n",
    "target1 = np.array(target)\n",
    "\n",
    "from sklearn.ensemble import AdaBoostClassifier\n",
    "from sklearn.tree import DecisionTreeClassifier\n",
    "from sklearn import grid_search\n",
    "from sklearn.metrics import make_scorer, mean_squared_error, accuracy_score\n",
    "from sklearn import cross_validation\n",
    "\n",
    "# tree_score= make_scorer(output_restric ,greater_is_better=False)\n",
    "tree_score = make_scorer(f1_score, greater_is_better=True)\n",
    "\n",
    "parameters = {'learning_rate': [x * 0.1 for x in range(1, 11)]}\n",
    "score_record = pd.DataFrame(columns=['Depth','Score'])\n",
    "kf = cross_validation.KFold(len(full_data_final), n_folds=10)\n",
    "for max_depth in range(1, 4):\n",
    "    average_score = 0.0\n",
    "    for train, test in kf:\n",
    "        X_train, X_test, Y_train, Y_test = full_data_pca[train], full_data_pca[test], target1[\n",
    "            train], target1[test]\n",
    "        finalAdaB = AdaBoostClassifier(base_estimator=DecisionTreeClassifier(max_depth=max_depth, min_samples_split=50),\n",
    "                                       n_estimators=100,\n",
    "                                       learning_rate=0.1,\n",
    "                                       random_state=42)\n",
    "        finalAdaB.fit(X_train, Y_train)\n",
    "        average_score += f1_score(Y_test, finalAdaB.predict(X_test))\n",
    "    score_record = score_record.append(pd.DataFrame([[max_depth, average_score/10]], columns=['Depth', 'Score']))\n",
    "        \n",
    "best_score_ada = max(score_record['Score'])\n",
    "\n",
    "print 'Best AdaBoost Parameter is', score_record[score_record.Score == best_score_ada]\n",
    "print 'Best AdaBoost Score is', best_score_ada\n",
    "\n",
    "print 'finish Adaboost Decision Tree'"
   ]
  },
  {
   "cell_type": "markdown",
   "metadata": {},
   "source": [
    "### Logistic Regression"
   ]
  },
  {
   "cell_type": "code",
   "execution_count": null,
   "metadata": {
    "collapsed": true
   },
   "outputs": [],
   "source": [
    "# Logistic Regression\n",
    "from sklearn import grid_search\n",
    "from sklearn import linear_model\n",
    "from sklearn.metrics import make_scorer, f1_score, accuracy_score\n",
    "\n",
    "LogisticReg = linear_model.LogisticRegression(max_iter=100)\n",
    "parameters = {'C': np.arange(0.01, 2, 0.01)}\n",
    "lreg_score = make_scorer(f1_score, greater_is_better=True)\n",
    "\n",
    "clf_lReg = grid_search.GridSearchCV(estimator=LogisticReg, param_grid=parameters, cv=10, scoring=lreg_score)\n",
    "clf_lReg.fit(full_data_pca,target)\n",
    "print \"best parameter original\", clf_lReg.best_estimator_\n",
    "print \"best score original\", clf_lReg.best_score_"
   ]
  },
  {
   "cell_type": "markdown",
   "metadata": {},
   "source": [
    "## Using Model with best score and run model on whole dataset"
   ]
  },
  {
   "cell_type": "code",
   "execution_count": null,
   "metadata": {
    "collapsed": true
   },
   "outputs": [],
   "source": [
    "#Use Reduced/full data to fit the best model\n",
    "clf_RF_reduced = RandomForestClassifier(min_samples_split=80,max_depth=7,random_state=24, n_estimators=1000)\n",
    "clf_RF_reduced.fit(full_data_pca,target)\n",
    "print \"Model F1 Score\", f1_score(target,clf_RF_reduced.predict(full_data_pca))\n",
    "print \"Model Accuracy\", accuracy_score(target,clf_RF_reduced.predict(full_data_pca))"
   ]
  },
  {
   "cell_type": "markdown",
   "metadata": {},
   "source": [
    "## Finalize model result and do productionlization and predictions"
   ]
  }
 ],
 "metadata": {
  "anaconda-cloud": {},
  "kernelspec": {
   "display_name": "Python [Root]",
   "language": "python",
   "name": "Python [Root]"
  },
  "language_info": {
   "codemirror_mode": {
    "name": "ipython",
    "version": 2
   },
   "file_extension": ".py",
   "mimetype": "text/x-python",
   "name": "python",
   "nbconvert_exporter": "python",
   "pygments_lexer": "ipython2",
   "version": "2.7.12"
  }
 },
 "nbformat": 4,
 "nbformat_minor": 0
}

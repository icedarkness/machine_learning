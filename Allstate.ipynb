{
 "cells": [
  {
   "cell_type": "code",
   "execution_count": 1,
   "metadata": {
    "collapsed": false
   },
   "outputs": [
    {
     "name": "stdout",
     "output_type": "stream",
     "text": [
      "Import Data Succesful\n"
     ]
    }
   ],
   "source": [
    "# This Python 3 environment comes with many helpful analytics libraries installed\n",
    "# It is defined by the kaggle/python docker image: https://github.com/kaggle/docker-python\n",
    "# For example, here's several helpful packages to load in \n",
    "\n",
    "import numpy as np # linear algebra\n",
    "import pandas as pd # data processing, CSV file I/O (e.g. pd.read_csv)\n",
    "\n",
    "# read data\n",
    "from IPython.display import display\n",
    "\n",
    "try: \n",
    "    train = pd.read_csv(\"../data/train.csv\")\n",
    "    test = pd.read_csv(\"../data/test.csv\")\n",
    "    print \"Import Data Succesful\"\n",
    "except:\n",
    "    print \"Unexpected error:\", sys.exc_info()[0]"
   ]
  },
  {
   "cell_type": "code",
   "execution_count": 3,
   "metadata": {
    "collapsed": false
   },
   "outputs": [
    {
     "data": {
      "image/png": "[encoded data removed]",
      "text/plain": [
       "<matplotlib.figure.Figure at 0x146e27b8>"
      ]
     },
     "metadata": {},
     "output_type": "display_data"
    }
   ],
   "source": [
    "features = [x for x in train.columns if x not in ['id','loss']]\n",
    "#print(features)\n",
    "\n",
    "cat_features = [x for x in train.select_dtypes(include=['object']).columns if x not in ['id','loss']]\n",
    "num_features = [x for x in train.select_dtypes(exclude=['object']).columns if x not in ['id','loss']]\n",
    "# print(cat_features)\n",
    "# print(num_features)\n",
    "\n",
    "from scipy.stats import norm, lognorm\n",
    "import matplotlib.mlab as mlab\n",
    "import matplotlib.pyplot as plt\n",
    "%matplotlib inline\n",
    "\n",
    "train['log_loss'] = np.log(train['loss'])\n",
    "\n",
    "# fit the normal distribution on ln(loss)\n",
    "(mu, sigma) = norm.fit(train['log_loss'])\n",
    "\n",
    "# the histogram of the ln(loss)\n",
    "n, bins, patches = plt.hist(train['log_loss'], 60, normed=1, facecolor='green', alpha=0.75)\n",
    "\n",
    "# add the fitted line\n",
    "y = mlab.normpdf( bins, mu, sigma)\n",
    "l = plt.plot(bins, y, 'r--', linewidth=2)\n",
    "\n",
    "#plot\n",
    "plt.xlabel('Ln(loss)')\n",
    "plt.ylabel('Probability')\n",
    "plt.title(r'$\\mathrm{Histogram\\ of\\ Ln(Loss):}\\ \\mu=%.3f,\\ \\sigma=%.3f$' %(mu, sigma))\n",
    "plt.grid(True)\n",
    "\n",
    "plt.show()"
   ]
  },
  {
   "cell_type": "code",
   "execution_count": 4,
   "metadata": {
    "collapsed": false
   },
   "outputs": [
    {
     "name": "stdout",
     "output_type": "stream",
     "text": [
      "(313864, 134)\n",
      "complete combine data\n"
     ]
    }
   ],
   "source": [
    "#combine test and train data for labelencoder purpose\n",
    "train['is_test'] = 0\n",
    "test['is_test'] = 1\n",
    "full_data = train.append(test)\n",
    "\n",
    "print full_data.shape\n",
    "print \"complete combine data\""
   ]
  },
  {
   "cell_type": "code",
   "execution_count": 5,
   "metadata": {
    "collapsed": false
   },
   "outputs": [
    {
     "name": "stdout",
     "output_type": "stream",
     "text": [
      "(313864, 134)\n",
      "Processed feature columns (134 total features)\n"
     ]
    }
   ],
   "source": [
    "variable_drop_list = ['log_loss', 'loss','id','is_test']\n",
    "\n",
    "from sklearn.preprocessing import LabelEncoder\n",
    "\n",
    "from collections import defaultdict\n",
    "d = defaultdict(LabelEncoder)\n",
    "\n",
    "\n",
    "# Initialize new output DataFrame\n",
    "full_col_list = [x for x in full_data.columns]\n",
    "col_list = [x for x in full_data.select_dtypes(include=['object']).columns if x not in variable_drop_list]\n",
    "if len(col_list) != 0:\n",
    "    # Encoding the variable\n",
    "    full_data_final = full_data[col_list].apply(lambda x: d[x.name].fit_transform(x))\n",
    "    for column in full_data.columns:\n",
    "        if column not in col_list:\n",
    "            full_data_final[column] = full_data[column]\n",
    "    full_data_final = pd.DataFrame(data = full_data_final, columns = full_col_list)\n",
    "\n",
    "#     # Inverse the encoded\n",
    "#     train_reversed = train.apply(lambda x: d[x.name].inverse_transform(x) if x.name not in variable_drop_list)\n",
    "   \n",
    "print full_data_final.shape\n",
    "\n",
    "print \"Processed feature columns ({} total features)\".format(len(full_data_final.columns))"
   ]
  },
  {
   "cell_type": "code",
   "execution_count": 8,
   "metadata": {
    "collapsed": false
   },
   "outputs": [
    {
     "name": "stdout",
     "output_type": "stream",
     "text": [
      "\n",
      "Skew in numeric features:\n",
      "cont1     0.516420\n",
      "cont2    -0.310939\n",
      "cont3    -0.010002\n",
      "cont4     0.416093\n",
      "cont5     0.681617\n",
      "cont6     0.461211\n",
      "cont7     0.826046\n",
      "cont8     0.676629\n",
      "cont9     1.072420\n",
      "cont10    0.354998\n",
      "cont11    0.280819\n",
      "cont12    0.291990\n",
      "cont13    0.380739\n",
      "cont14    0.248672\n",
      "dtype: float64\n"
     ]
    }
   ],
   "source": [
    "# compute skew and do Box-Cox transformation\n",
    "from scipy.stats import skew, boxcox\n",
    "skewed_feats = train[num_features].apply(lambda x: skew(x.dropna()))\n",
    "print(\"\\nSkew in numeric features:\")\n",
    "print(skewed_feats)\n",
    "\n",
    "# transform features with skew > 0.25 (this can be varied to find optimal value)\n",
    "skewed_feats = skewed_feats[skewed_feats > 0.25]\n",
    "skewed_feats = skewed_feats.index\n",
    "for feats in skewed_feats:\n",
    "    full_data_final[feats] = full_data_final[feats] + 1\n",
    "    full_data_final[feats], lam = boxcox(full_data_final[feats])\n",
    "features = train.columns\n",
    "cats = [feat for feat in features if 'cat' in feat]\n",
    "\n",
    "print \"box-cox transform finished\""
   ]
  },
  {
   "cell_type": "code",
   "execution_count": 9,
   "metadata": {
    "collapsed": false
   },
   "outputs": [
    {
     "name": "stdout",
     "output_type": "stream",
     "text": [
      "data pre-process finished\n"
     ]
    },
    {
     "name": "stderr",
     "output_type": "stream",
     "text": [
      "C:\\Anaconda2\\lib\\site-packages\\ipykernel\\__main__.py:13: SettingWithCopyWarning: \n",
      "A value is trying to be set on a copy of a slice from a DataFrame\n",
      "\n",
      "See the caveats in the documentation: http://pandas.pydata.org/pandas-docs/stable/indexing.html#indexing-view-versus-copy\n",
      "C:\\Anaconda2\\lib\\site-packages\\ipykernel\\__main__.py:14: SettingWithCopyWarning: \n",
      "A value is trying to be set on a copy of a slice from a DataFrame\n",
      "\n",
      "See the caveats in the documentation: http://pandas.pydata.org/pandas-docs/stable/indexing.html#indexing-view-versus-copy\n"
     ]
    }
   ],
   "source": [
    "#split test predict/test/train data and random shuffle\n",
    "# RANDOM SHUFFLE DATA\n",
    "full_data_final = full_data_final.iloc[np.random.permutation(len(full_data_final))]\n",
    "full_data_final.index = range(len(full_data_final))\n",
    "\n",
    "train_data = full_data_final[(full_data_final.is_test == 0)]\n",
    "test_data = full_data_final[(full_data_final.is_test == 1)]\n",
    "\n",
    "target = train_data['log_loss']\n",
    "test_id = test_data['id']\n",
    "\n",
    "#drop text and unuseful field\n",
    "train_data.drop(variable_drop_list,axis=1, inplace=True)\n",
    "test_data.drop(variable_drop_list,axis=1, inplace=True)\n",
    "\n",
    "print \"data pre-process finished\""
   ]
  },
  {
   "cell_type": "code",
   "execution_count": 10,
   "metadata": {
    "collapsed": false
   },
   "outputs": [
    {
     "data": {
      "text/html": [
       "<div>\n",
       "<table border=\"1\" class=\"dataframe\">\n",
       "  <thead>\n",
       "    <tr style=\"text-align: right;\">\n",
       "      <th></th>\n",
       "      <th>cat1</th>\n",
       "      <th>cat10</th>\n",
       "      <th>cat100</th>\n",
       "      <th>cat101</th>\n",
       "      <th>cat102</th>\n",
       "      <th>cat103</th>\n",
       "      <th>cat104</th>\n",
       "      <th>cat105</th>\n",
       "      <th>cat106</th>\n",
       "      <th>cat107</th>\n",
       "      <th>...</th>\n",
       "      <th>cont13</th>\n",
       "      <th>cont14</th>\n",
       "      <th>cont2</th>\n",
       "      <th>cont3</th>\n",
       "      <th>cont4</th>\n",
       "      <th>cont5</th>\n",
       "      <th>cont6</th>\n",
       "      <th>cont7</th>\n",
       "      <th>cont8</th>\n",
       "      <th>cont9</th>\n",
       "    </tr>\n",
       "  </thead>\n",
       "  <tbody>\n",
       "    <tr>\n",
       "      <th>0</th>\n",
       "      <td>0</td>\n",
       "      <td>0</td>\n",
       "      <td>8</td>\n",
       "      <td>0</td>\n",
       "      <td>0</td>\n",
       "      <td>0</td>\n",
       "      <td>7</td>\n",
       "      <td>3</td>\n",
       "      <td>6</td>\n",
       "      <td>8</td>\n",
       "      <td>...</td>\n",
       "      <td>0.398481</td>\n",
       "      <td>0.300582</td>\n",
       "      <td>0.555782</td>\n",
       "      <td>0.150744</td>\n",
       "      <td>0.377111</td>\n",
       "      <td>0.228916</td>\n",
       "      <td>0.432158</td>\n",
       "      <td>0.240724</td>\n",
       "      <td>0.336701</td>\n",
       "      <td>0.299110</td>\n",
       "    </tr>\n",
       "    <tr>\n",
       "      <th>3</th>\n",
       "      <td>0</td>\n",
       "      <td>0</td>\n",
       "      <td>11</td>\n",
       "      <td>2</td>\n",
       "      <td>0</td>\n",
       "      <td>0</td>\n",
       "      <td>6</td>\n",
       "      <td>6</td>\n",
       "      <td>6</td>\n",
       "      <td>9</td>\n",
       "      <td>...</td>\n",
       "      <td>0.351773</td>\n",
       "      <td>0.602254</td>\n",
       "      <td>0.681761</td>\n",
       "      <td>0.673861</td>\n",
       "      <td>0.302276</td>\n",
       "      <td>0.174663</td>\n",
       "      <td>0.374500</td>\n",
       "      <td>0.274661</td>\n",
       "      <td>0.299908</td>\n",
       "      <td>0.248105</td>\n",
       "    </tr>\n",
       "    <tr>\n",
       "      <th>5</th>\n",
       "      <td>0</td>\n",
       "      <td>1</td>\n",
       "      <td>9</td>\n",
       "      <td>12</td>\n",
       "      <td>0</td>\n",
       "      <td>0</td>\n",
       "      <td>6</td>\n",
       "      <td>7</td>\n",
       "      <td>7</td>\n",
       "      <td>6</td>\n",
       "      <td>...</td>\n",
       "      <td>0.235490</td>\n",
       "      <td>0.360592</td>\n",
       "      <td>0.358319</td>\n",
       "      <td>0.745801</td>\n",
       "      <td>0.172710</td>\n",
       "      <td>0.174663</td>\n",
       "      <td>0.284657</td>\n",
       "      <td>0.278212</td>\n",
       "      <td>0.187892</td>\n",
       "      <td>0.253132</td>\n",
       "    </tr>\n",
       "    <tr>\n",
       "      <th>6</th>\n",
       "      <td>0</td>\n",
       "      <td>0</td>\n",
       "      <td>7</td>\n",
       "      <td>0</td>\n",
       "      <td>0</td>\n",
       "      <td>3</td>\n",
       "      <td>5</td>\n",
       "      <td>4</td>\n",
       "      <td>7</td>\n",
       "      <td>5</td>\n",
       "      <td>...</td>\n",
       "      <td>0.213380</td>\n",
       "      <td>0.721994</td>\n",
       "      <td>0.299102</td>\n",
       "      <td>0.246911</td>\n",
       "      <td>0.451610</td>\n",
       "      <td>0.174663</td>\n",
       "      <td>0.250533</td>\n",
       "      <td>0.205976</td>\n",
       "      <td>0.233157</td>\n",
       "      <td>0.224386</td>\n",
       "    </tr>\n",
       "    <tr>\n",
       "      <th>7</th>\n",
       "      <td>0</td>\n",
       "      <td>0</td>\n",
       "      <td>8</td>\n",
       "      <td>0</td>\n",
       "      <td>0</td>\n",
       "      <td>2</td>\n",
       "      <td>4</td>\n",
       "      <td>5</td>\n",
       "      <td>7</td>\n",
       "      <td>5</td>\n",
       "      <td>...</td>\n",
       "      <td>0.239887</td>\n",
       "      <td>0.216856</td>\n",
       "      <td>0.785784</td>\n",
       "      <td>0.549770</td>\n",
       "      <td>0.311978</td>\n",
       "      <td>0.234228</td>\n",
       "      <td>0.261559</td>\n",
       "      <td>0.222528</td>\n",
       "      <td>0.284866</td>\n",
       "      <td>0.237881</td>\n",
       "    </tr>\n",
       "  </tbody>\n",
       "</table>\n",
       "<p>5 rows × 130 columns</p>\n",
       "</div>"
      ],
      "text/plain": [
       "   cat1  cat10  cat100  cat101  cat102  cat103  cat104  cat105  cat106  \\\n",
       "0     0      0       8       0       0       0       7       3       6   \n",
       "3     0      0      11       2       0       0       6       6       6   \n",
       "5     0      1       9      12       0       0       6       7       7   \n",
       "6     0      0       7       0       0       3       5       4       7   \n",
       "7     0      0       8       0       0       2       4       5       7   \n",
       "\n",
       "   cat107    ...       cont13    cont14     cont2     cont3     cont4  \\\n",
       "0       8    ...     0.398481  0.300582  0.555782  0.150744  0.377111   \n",
       "3       9    ...     0.351773  0.602254  0.681761  0.673861  0.302276   \n",
       "5       6    ...     0.235490  0.360592  0.358319  0.745801  0.172710   \n",
       "6       5    ...     0.213380  0.721994  0.299102  0.246911  0.451610   \n",
       "7       5    ...     0.239887  0.216856  0.785784  0.549770  0.311978   \n",
       "\n",
       "      cont5     cont6     cont7     cont8     cont9  \n",
       "0  0.228916  0.432158  0.240724  0.336701  0.299110  \n",
       "3  0.174663  0.374500  0.274661  0.299908  0.248105  \n",
       "5  0.174663  0.284657  0.278212  0.187892  0.253132  \n",
       "6  0.174663  0.250533  0.205976  0.233157  0.224386  \n",
       "7  0.234228  0.261559  0.222528  0.284866  0.237881  \n",
       "\n",
       "[5 rows x 130 columns]"
      ]
     },
     "metadata": {},
     "output_type": "display_data"
    }
   ],
   "source": [
    "display(train_data.head())"
   ]
  },
  {
   "cell_type": "code",
   "execution_count": 12,
   "metadata": {
    "collapsed": false
   },
   "outputs": [
    {
     "name": "stdout",
     "output_type": "stream",
     "text": [
      "running on max_depth:= 5\n",
      "In Sample MSE is := 0.508995832166 ; Out Sample MSE is := 0.538973206335\n",
      "running on max_depth:= 6\n",
      "In Sample MSE is := 0.487089807457 ; Out Sample MSE is := 0.538619166426\n",
      "running on max_depth:= 7\n",
      "In Sample MSE is := 0.458210736308 ; Out Sample MSE is := 0.539863602468\n",
      "best Out Of BAG max_depth based on mse_outsample:\n",
      "7.0\n",
      "best Out Of BAG MSE:\n",
      "   max_depth  mse_insample  mse_outsample\n",
      "0        6.0       0.48709       0.538619\n",
      "finished modeling\n"
     ]
    }
   ],
   "source": [
    "#using gradient boost regressor\n",
    "#note regressor is using linear regression, so normality transform is necessary in data pre-processing\n",
    "from sklearn.ensemble import GradientBoostingRegressor\n",
    "from sklearn.tree import DecisionTreeClassifier\n",
    "from sklearn import grid_search\n",
    "from sklearn import cross_validation\n",
    "from sklearn.metrics import make_scorer, mean_squared_error, f1_score, accuracy_score\n",
    "\n",
    "# USE MSE AS SCORE FUNCTION\n",
    "mse_score = make_scorer(mean_squared_error, greater_is_better=True)\n",
    "\n",
    "score_record = pd.DataFrame(columns=['max_depth', 'mse_insample', 'mse_outsample'])\n",
    "\n",
    "kf = cross_validation.KFold(len(train_data), n_folds=5)\n",
    "\n",
    "\n",
    "target_train = pd.DataFrame(target,columns = ['log_loss'])\n",
    "target_train.index = range(len(target_train))\n",
    "\n",
    "for max_depth in range(2,11,1):\n",
    "    print \"running on max_depth:=\", max_depth\n",
    "    avg_mes_insample = 0.0  \n",
    "    avg_mes_outsample = 0.0  \n",
    "    for train, test in kf:\n",
    "        X_train, X_test, Y_train, Y_test = train_data.iloc[train], train_data.iloc[test], target_train.iloc[train], target_train.iloc[test]    \n",
    "        clf = GradientBoostingRegressor(max_depth=max_depth, \n",
    "                                        n_estimators=500,\n",
    "                                        random_state = 42\n",
    "                                       )\n",
    "        clf.fit(X_train, np.ravel(Y_train))\n",
    "        avg_mes_insample += np.sqrt(mean_squared_error(np.ravel(Y_train),clf.predict(X_train)))\n",
    "        avg_mes_outsample += np.sqrt(mean_squared_error(np.ravel(Y_test),clf.predict(X_test)))\n",
    "    print \"In Sample MSE is :=\", avg_mes_insample/5.0, \"; Out Sample MSE is :=\", avg_mes_outsample/5.0                            \n",
    "    score_record = score_record.append(pd.DataFrame([[max_depth, avg_mes_insample/5.0, avg_mes_outsample/5.0]],\n",
    "                                                    columns=['max_depth', 'mse_insample', 'mse_outsample']))\n",
    "    \n",
    "score_record[score_record.mse_outsample == score_record.mse_outsample.max()]\n",
    "best_estimation = score_record[score_record.mse_outsample == score_record.mse_outsample.max()]\n",
    "\n",
    "print \"best Out Of BAG max_depth based on mse_outsample:\"\n",
    "print best_estimation.max_depth[0]\n",
    "print \"best Out Of BAG MSE:\"\n",
    "print score_record.sort_values(by = ['mse_outsample'],ascending=False).head(1)\n",
    "\n",
    "print('finished modeling')"
   ]
  },
  {
   "cell_type": "code",
   "execution_count": null,
   "metadata": {
    "collapsed": false
   },
   "outputs": [],
   "source": [
    "from sklearn.ensemble import GradientBoostingRegressor\n",
    "from sklearn.metrics import make_scorer,mean_squared_error\n",
    "\n",
    "clf_gbr = GradientBoostingRegressor(max_depth=6, n_estimators=10000, random_state=24)\n",
    "clf_gbr.fit(train_data,np.ravel(target_train))\n",
    "print \"GBR MSE on data\",mean_squared_error(target_train,clf_gbr.predict(train_data))              "
   ]
  },
  {
   "cell_type": "code",
   "execution_count": 18,
   "metadata": {
    "collapsed": false
   },
   "outputs": [
    {
     "name": "stdout",
     "output_type": "stream",
     "text": [
      "finish predication\n"
     ]
    }
   ],
   "source": [
    "# Prediction\n",
    "predicted_value = pd.DataFrame(np.exp(clf_gbr.predict(test_data)), columns=['loss'])\n",
    "test_id.index = range(len(test_id))\n",
    "predicted_value_pd = pd.concat([test_id, predicted_value], axis=1)\n",
    "\n",
    "print 'finish predication'                                "
   ]
  },
  {
   "cell_type": "code",
   "execution_count": 20,
   "metadata": {
    "collapsed": false
   },
   "outputs": [
    {
     "name": "stdout",
     "output_type": "stream",
     "text": [
      "output finish\n"
     ]
    }
   ],
   "source": [
    "#  OUTPUT TO CSV\n",
    "predicted_value_sorted = predicted_value_pd.sort_values(by = ['id'],ascending=False)\n",
    "predicted_value_sorted.to_csv('../output/predications.csv', index=False)\n",
    "print 'output finish'"
   ]
  },
  {
   "cell_type": "code",
   "execution_count": null,
   "metadata": {
    "collapsed": true
   },
   "outputs": [],
   "source": []
  }
 ],
 "metadata": {
  "anaconda-cloud": {},
  "kernelspec": {
   "display_name": "Python [Root]",
   "language": "python",
   "name": "Python [Root]"
  },
  "language_info": {
   "codemirror_mode": {
    "name": "ipython",
    "version": 2
   },
   "file_extension": ".py",
   "mimetype": "text/x-python",
   "name": "python",
   "nbconvert_exporter": "python",
   "pygments_lexer": "ipython2",
   "version": "2.7.11"
  }
 },
 "nbformat": 4,
 "nbformat_minor": 0
}

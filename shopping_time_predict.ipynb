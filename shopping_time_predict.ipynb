{
 "cells": [
  {
   "cell_type": "markdown",
   "metadata": {},
   "source": [
    "# Shopping time predict for online grocery store"
   ]
  },
  {
   "cell_type": "markdown",
   "metadata": {},
   "source": [
    "## Summary"
   ]
  },
  {
   "cell_type": "markdown",
   "metadata": {},
   "source": [
    "Goal: predict shopping time based on given data.\n",
    "\n",
    "Might affect shopping time at intuition:\n",
    "\n",
    "time (morning/noon/afternoon/night) to do shopping\n",
    "\n",
    "Weekend/Weekdays\n",
    "\n",
    "shopping habbit for each customer\n",
    "\n",
    "number of items shopped"
   ]
  },
  {
   "cell_type": "markdown",
   "metadata": {},
   "source": [
    "## Import Data"
   ]
  },
  {
   "cell_type": "code",
   "execution_count": 48,
   "metadata": {
    "collapsed": true
   },
   "outputs": [],
   "source": [
    "# Importing a few necessary libraries\n",
    "import numpy as np\n",
    "import math  as math\n",
    "import pandas as pd\n",
    "from sklearn import linear_model\n",
    "from sklearn import preprocessing\n",
    "\n",
    "from IPython.display import display\n",
    "%matplotlib inline\n",
    "\n",
    "in_file_train = 'G:/onedrive/document/python_projects/instacart/instacart-picking-time-challenge-data/train_trips.csv'\n",
    "train_trip = pd.read_csv(in_file_train)\n",
    "\n",
    "in_file_test = 'G:/onedrive/document/python_projects/instacart/instacart-picking-time-challenge-data/test_trips.csv'\n",
    "test_trip = pd.read_csv(in_file_test)\n",
    "\n",
    "in_file_items = 'G:/onedrive/document/python_projects/instacart/instacart-picking-time-challenge-data/order_items.csv'\n",
    "order_items = pd.read_csv(in_file_items)"
   ]
  },
  {
   "cell_type": "markdown",
   "metadata": {},
   "source": [
    "## Take a look of data"
   ]
  },
  {
   "cell_type": "code",
   "execution_count": 49,
   "metadata": {
    "collapsed": false
   },
   "outputs": [
    {
     "data": {
      "text/html": [
       "<div>\n",
       "<table border=\"1\" class=\"dataframe\">\n",
       "  <thead>\n",
       "    <tr style=\"text-align: right;\">\n",
       "      <th></th>\n",
       "      <th>trip_id</th>\n",
       "      <th>shopper_id</th>\n",
       "      <th>fulfillment_model</th>\n",
       "      <th>store_id</th>\n",
       "      <th>shopping_started_at</th>\n",
       "      <th>shopping_ended_at</th>\n",
       "    </tr>\n",
       "  </thead>\n",
       "  <tbody>\n",
       "    <tr>\n",
       "      <th>0</th>\n",
       "      <td>3119519</td>\n",
       "      <td>48539</td>\n",
       "      <td>model_1</td>\n",
       "      <td>6</td>\n",
       "      <td>2015-09-01 07:03:56</td>\n",
       "      <td>2015-09-01 07:30:56</td>\n",
       "    </tr>\n",
       "    <tr>\n",
       "      <th>1</th>\n",
       "      <td>3119513</td>\n",
       "      <td>3775</td>\n",
       "      <td>model_1</td>\n",
       "      <td>1</td>\n",
       "      <td>2015-09-01 07:04:33</td>\n",
       "      <td>2015-09-01 07:40:33</td>\n",
       "    </tr>\n",
       "    <tr>\n",
       "      <th>2</th>\n",
       "      <td>3119516</td>\n",
       "      <td>4362</td>\n",
       "      <td>model_1</td>\n",
       "      <td>1</td>\n",
       "      <td>2015-09-01 07:23:21</td>\n",
       "      <td>2015-09-01 07:41:21</td>\n",
       "    </tr>\n",
       "    <tr>\n",
       "      <th>3</th>\n",
       "      <td>3119792</td>\n",
       "      <td>47659</td>\n",
       "      <td>model_1</td>\n",
       "      <td>1</td>\n",
       "      <td>2015-09-01 07:29:52</td>\n",
       "      <td>2015-09-01 08:55:52</td>\n",
       "    </tr>\n",
       "    <tr>\n",
       "      <th>4</th>\n",
       "      <td>3119922</td>\n",
       "      <td>11475</td>\n",
       "      <td>model_1</td>\n",
       "      <td>1</td>\n",
       "      <td>2015-09-01 07:32:21</td>\n",
       "      <td>2015-09-01 09:01:21</td>\n",
       "    </tr>\n",
       "  </tbody>\n",
       "</table>\n",
       "</div>"
      ],
      "text/plain": [
       "   trip_id  shopper_id fulfillment_model  store_id  shopping_started_at  \\\n",
       "0  3119519       48539           model_1         6  2015-09-01 07:03:56   \n",
       "1  3119513        3775           model_1         1  2015-09-01 07:04:33   \n",
       "2  3119516        4362           model_1         1  2015-09-01 07:23:21   \n",
       "3  3119792       47659           model_1         1  2015-09-01 07:29:52   \n",
       "4  3119922       11475           model_1         1  2015-09-01 07:32:21   \n",
       "\n",
       "     shopping_ended_at  \n",
       "0  2015-09-01 07:30:56  \n",
       "1  2015-09-01 07:40:33  \n",
       "2  2015-09-01 07:41:21  \n",
       "3  2015-09-01 08:55:52  \n",
       "4  2015-09-01 09:01:21  "
      ]
     },
     "metadata": {},
     "output_type": "execute_result"
    },
    {
     "data": {
      "text/html": [
       "<div>\n",
       "<table border=\"1\" class=\"dataframe\">\n",
       "  <thead>\n",
       "    <tr style=\"text-align: right;\">\n",
       "      <th></th>\n",
       "      <th>trip_id</th>\n",
       "      <th>shopper_id</th>\n",
       "      <th>fulfillment_model</th>\n",
       "      <th>store_id</th>\n",
       "      <th>shopping_started_at</th>\n",
       "    </tr>\n",
       "  </thead>\n",
       "  <tbody>\n",
       "    <tr>\n",
       "      <th>0</th>\n",
       "      <td>4310899</td>\n",
       "      <td>60930</td>\n",
       "      <td>model_2</td>\n",
       "      <td>123</td>\n",
       "      <td>2015-11-16 07:00:12</td>\n",
       "    </tr>\n",
       "    <tr>\n",
       "      <th>1</th>\n",
       "      <td>4310904</td>\n",
       "      <td>59815</td>\n",
       "      <td>model_2</td>\n",
       "      <td>123</td>\n",
       "      <td>2015-11-16 07:00:12</td>\n",
       "    </tr>\n",
       "    <tr>\n",
       "      <th>2</th>\n",
       "      <td>4310907</td>\n",
       "      <td>60878</td>\n",
       "      <td>model_2</td>\n",
       "      <td>123</td>\n",
       "      <td>2015-11-16 07:00:13</td>\n",
       "    </tr>\n",
       "    <tr>\n",
       "      <th>3</th>\n",
       "      <td>4310911</td>\n",
       "      <td>60879</td>\n",
       "      <td>model_2</td>\n",
       "      <td>123</td>\n",
       "      <td>2015-11-16 07:00:13</td>\n",
       "    </tr>\n",
       "    <tr>\n",
       "      <th>4</th>\n",
       "      <td>4310328</td>\n",
       "      <td>66726</td>\n",
       "      <td>model_1</td>\n",
       "      <td>1</td>\n",
       "      <td>2015-11-16 07:01:08</td>\n",
       "    </tr>\n",
       "  </tbody>\n",
       "</table>\n",
       "</div>"
      ],
      "text/plain": [
       "   trip_id  shopper_id fulfillment_model  store_id  shopping_started_at\n",
       "0  4310899       60930           model_2       123  2015-11-16 07:00:12\n",
       "1  4310904       59815           model_2       123  2015-11-16 07:00:12\n",
       "2  4310907       60878           model_2       123  2015-11-16 07:00:13\n",
       "3  4310911       60879           model_2       123  2015-11-16 07:00:13\n",
       "4  4310328       66726           model_1         1  2015-11-16 07:01:08"
      ]
     },
     "metadata": {},
     "output_type": "execute_result"
    },
    {
     "data": {
      "text/html": [
       "<div>\n",
       "<table border=\"1\" class=\"dataframe\">\n",
       "  <thead>\n",
       "    <tr style=\"text-align: right;\">\n",
       "      <th></th>\n",
       "      <th>trip_id</th>\n",
       "      <th>item_id</th>\n",
       "      <th>department_name</th>\n",
       "      <th>quantity</th>\n",
       "    </tr>\n",
       "  </thead>\n",
       "  <tbody>\n",
       "    <tr>\n",
       "      <th>0</th>\n",
       "      <td>3119513</td>\n",
       "      <td>368671</td>\n",
       "      <td>Produce</td>\n",
       "      <td>10</td>\n",
       "    </tr>\n",
       "    <tr>\n",
       "      <th>1</th>\n",
       "      <td>3120462</td>\n",
       "      <td>368671</td>\n",
       "      <td>Produce</td>\n",
       "      <td>10</td>\n",
       "    </tr>\n",
       "    <tr>\n",
       "      <th>2</th>\n",
       "      <td>3120473</td>\n",
       "      <td>368671</td>\n",
       "      <td>Produce</td>\n",
       "      <td>10</td>\n",
       "    </tr>\n",
       "    <tr>\n",
       "      <th>3</th>\n",
       "      <td>3121910</td>\n",
       "      <td>368671</td>\n",
       "      <td>Produce</td>\n",
       "      <td>6</td>\n",
       "    </tr>\n",
       "    <tr>\n",
       "      <th>4</th>\n",
       "      <td>3122332</td>\n",
       "      <td>368671</td>\n",
       "      <td>Produce</td>\n",
       "      <td>10</td>\n",
       "    </tr>\n",
       "  </tbody>\n",
       "</table>\n",
       "</div>"
      ],
      "text/plain": [
       "   trip_id  item_id department_name  quantity\n",
       "0  3119513   368671         Produce        10\n",
       "1  3120462   368671         Produce        10\n",
       "2  3120473   368671         Produce        10\n",
       "3  3121910   368671         Produce         6\n",
       "4  3122332   368671         Produce        10"
      ]
     },
     "metadata": {},
     "output_type": "execute_result"
    }
   ],
   "source": [
    "display(train_trip.head())\n",
    "display(test_trip.head())\n",
    "display(order_items.head())"
   ]
  },
  {
   "cell_type": "markdown",
   "metadata": {},
   "source": [
    "## Preprocess all data"
   ]
  },
  {
   "cell_type": "markdown",
   "metadata": {},
   "source": [
    "### Reformat Categorical data"
   ]
  },
  {
   "cell_type": "code",
   "execution_count": 50,
   "metadata": {
    "collapsed": true
   },
   "outputs": [],
   "source": [
    "# combine test and train data for preprocessing\n",
    "train_trip['is_train'] = 1\n",
    "test_trip['is_train'] = 0\n",
    "full_data = train_trip\n",
    "full_data = full_data.append(test_trip)\n",
    "\n",
    "full_data.index = range(len(full_data))\n",
    "\n",
    "# reformat columns\n",
    "full_data['store_id'] = full_data['store_id'].apply(str)"
   ]
  },
  {
   "cell_type": "markdown",
   "metadata": {},
   "source": [
    "### Time/Date Variable process\n",
    "we want to calculate shopping time and generate variable indicate what is the shopping time (weekday/weekend and morning/night/ect...)"
   ]
  },
  {
   "cell_type": "code",
   "execution_count": 51,
   "metadata": {
    "collapsed": true
   },
   "outputs": [],
   "source": [
    "# process time variable and create weekday and hour of day variable\n",
    "full_data['start_dt'] = pd.to_datetime(full_data.shopping_started_at)\n",
    "full_data['end_dt'] = pd.to_datetime(full_data.shopping_ended_at)\n",
    "full_data['shopping_time'] = (full_data['end_dt'] - full_data['start_dt']).astype('timedelta64[s]')\n",
    "\n",
    "\n",
    "def hr_func(ts):\n",
    "    return ts.hour\n",
    "full_data['start_hour'] = full_data['start_dt'].apply(hr_func)\n",
    "full_data['start_weekday'] = full_data['start_dt'].apply(lambda x: x.weekday())\n",
    "\n",
    "full_data['is_weekend'] = [1 if x >=5 else 0 for x in full_data['start_weekday']]\n",
    "full_data['is_morning'] = [1 if (x >=6 and x<11) else 0 for x in full_data['start_hour']]\n",
    "full_data['is_noon'] = [1 if (x >=11 and x<13) else 0 for x in full_data['start_hour']]\n",
    "full_data['is_afternoon'] = [1 if (x >=13 and x<18) else 0 for x in full_data['start_hour']]\n",
    "full_data['is_night'] = [1 if (x >=18 and x<=24) else 0 for x in full_data['start_hour']]\n",
    "full_data['is_midnight'] = [1 if x<6 else 0 for x in full_data['start_hour']]"
   ]
  },
  {
   "cell_type": "markdown",
   "metadata": {},
   "source": [
    "### Get Dummy variables for Categorical variable"
   ]
  },
  {
   "cell_type": "code",
   "execution_count": 52,
   "metadata": {
    "collapsed": true
   },
   "outputs": [],
   "source": [
    "# generate dummies for stores\n",
    "new_col1 = pd.get_dummies(full_data['store_id'], prefix='store')\n",
    "new_col2 = pd.get_dummies(full_data['fulfillment_model'], prefix='model')\n",
    "full_data_processed = pd.concat([full_data, new_col1], axis=1)\n",
    "full_data_processed = pd.concat([full_data_processed, new_col2], axis=1)"
   ]
  },
  {
   "cell_type": "markdown",
   "metadata": {},
   "source": [
    "### Process average items bought for each shopper"
   ]
  },
  {
   "cell_type": "code",
   "execution_count": 53,
   "metadata": {
    "collapsed": true
   },
   "outputs": [],
   "source": [
    "# process items bought\n",
    "# total item by trip\n",
    "total_items = pd.DataFrame(order_items.groupby(['trip_id'])['quantity'].sum())\n",
    "total_items['trip_id'] = total_items.index\n",
    "full_data_processed = pd.merge(full_data_processed, total_items, on='trip_id')\n",
    "\n",
    "# average item by shopper_id\n",
    "average_items_by_shopper = pd.DataFrame(full_data_processed.groupby(['shopper_id'])['quantity'].mean())\n",
    "average_items_by_shopper['shopper_id'] = average_items_by_shopper.index\n",
    "average_items_by_shopper.rename(columns={'shopper_id': 'shopper_id', 'quantity': 'avg_quant'}, inplace=True)\n",
    "full_data_processed = pd.merge(full_data_processed, average_items_by_shopper, on='shopper_id')\n",
    "\n",
    "# average item by time to buy\n",
    "average_items_by_time = pd.DataFrame(\n",
    "    full_data_processed.groupby(['is_weekend', 'is_morning', 'is_noon', 'is_afternoon', 'is_night', 'is_midnight'],as_index=False)[\n",
    "        'quantity'].mean())\n",
    "average_items_by_time.rename(columns={'quantity': 'avg_time_quant'}, inplace=True)\n",
    "full_data_processed = pd.merge(full_data_processed, average_items_by_time, how='left',\n",
    "                               on=['is_weekend', 'is_morning', 'is_noon', 'is_afternoon', 'is_night', 'is_midnight'])"
   ]
  },
  {
   "cell_type": "markdown",
   "metadata": {},
   "source": [
    "### Fill the missing value using mean"
   ]
  },
  {
   "cell_type": "code",
   "execution_count": 54,
   "metadata": {
    "collapsed": true
   },
   "outputs": [],
   "source": [
    "# process missing variables\n",
    "\n",
    "imp = preprocessing.Imputer(missing_values='NaN', strategy='mean', axis=0)\n",
    "full_data_imputed = pd.DataFrame(imp.fit_transform(full_data_processed[['trip_id', 'shopper_id', 'avg_quant']]),\n",
    "                                 columns=['trip_id', 'shopper_id', 'avg_quant_nonull'])\n",
    "full_data_processed = pd.merge(full_data_processed, full_data_imputed[['trip_id','avg_quant_nonull']], on='trip_id')"
   ]
  },
  {
   "cell_type": "markdown",
   "metadata": {},
   "source": [
    "### Prepare Train/Test dataset"
   ]
  },
  {
   "cell_type": "code",
   "execution_count": 55,
   "metadata": {
    "collapsed": false
   },
   "outputs": [
    {
     "name": "stdout",
     "output_type": "stream",
     "text": [
      "is_weekend            int64\n",
      "is_morning            int64\n",
      "is_noon               int64\n",
      "is_afternoon          int64\n",
      "is_night              int64\n",
      "is_midnight           int64\n",
      "store_1             float64\n",
      "store_105           float64\n",
      "store_115           float64\n",
      "store_123           float64\n",
      "store_126           float64\n",
      "store_148           float64\n",
      "store_29            float64\n",
      "store_3             float64\n",
      "store_31            float64\n",
      "store_5             float64\n",
      "store_54            float64\n",
      "store_6             float64\n",
      "store_78            float64\n",
      "store_90            float64\n",
      "model_model_1       float64\n",
      "model_model_2       float64\n",
      "avg_time_quant      float64\n",
      "avg_quant_nonull    float64\n",
      "dtype: object\n",
      "Number of Features: \n",
      "24\n"
     ]
    }
   ],
   "source": [
    "#drop variable and prepare train/test dataset\n",
    "full_data_processed.drop(\n",
    "    ['shopping_ended_at', 'shopping_started_at', 'avg_quant','quantity', 'start_hour', 'start_weekday', 'store_id',\n",
    "     'fulfillment_model', 'start_dt', 'end_dt'],\n",
    "    axis=1, inplace=True)\n",
    "\n",
    "#split train and test data\n",
    "full_data_train = full_data_processed[full_data_processed.is_train == 1]\n",
    "full_data_test = full_data_processed[full_data_processed.is_train == 0]\n",
    "\n",
    "# RANDOM SHUFFLE DATA\n",
    "new_order = np.random.permutation(len(full_data_train))\n",
    "full_data_train = full_data_train.iloc[new_order]\n",
    "\n",
    "columns_to_run = [x for x in full_data_train.columns if x not in ('is_train','trip_id', 'shopper_id', 'shopping_time') ]\n",
    "x_all = full_data_train[columns_to_run]\n",
    "y_all = full_data_train['shopping_time']\n",
    "\n",
    "print x_all.dtypes\n",
    "print 'Number of Features: ' \n",
    "print len(x_all.columns)"
   ]
  },
  {
   "cell_type": "markdown",
   "metadata": {},
   "source": [
    "## Modeling\n",
    "Our goal is predict what is shopping time. \n",
    "I will consider it as Regression. \n",
    "\n",
    "Choose Ridge regression for modeling. (Easy implement and faster, we also can try other models like lasso to compare their performance)\n",
    "\n",
    "Right now total features are : 25\n",
    "\n",
    "I am using 10-fold cross-validation for feature, polynomail feature and variable selection. "
   ]
  },
  {
   "cell_type": "code",
   "execution_count": 56,
   "metadata": {
    "collapsed": true
   },
   "outputs": [],
   "source": [
    "# using ridge regression\n",
    "# import lib\n",
    "\n",
    "from sklearn import grid_search\n",
    "from sklearn.metrics import make_scorer, mean_squared_error\n",
    "from sklearn import cross_validation\n",
    "from sklearn.feature_selection import SelectPercentile\n",
    "from sklearn.feature_selection import SelectKBest\n",
    "from sklearn.feature_selection import f_regression\n",
    "from sklearn import cross_validation\n",
    "from sklearn import linear_model"
   ]
  },
  {
   "cell_type": "markdown",
   "metadata": {},
   "source": [
    "### Searching for good model parameters\n",
    "Note: Trying to select the \n",
    "\n",
    "best regularization value\n",
    "\n",
    "best feature to use\n",
    "\n",
    "if we want to use polynomial features nor not"
   ]
  },
  {
   "cell_type": "code",
   "execution_count": null,
   "metadata": {
    "collapsed": false
   },
   "outputs": [],
   "source": [
    "# variable selection\n",
    "\n",
    "x_all.shape\n",
    "selector = SelectPercentile(f_regression)\n",
    "selector.fit_transform(x_all, y_all)\n",
    "score = -np.log10(selector.pvalues_)\n",
    "all_score = np.random.rand(2, len(score))\n",
    "all_score[0][:] = -np.log10(selector.pvalues_)\n",
    "all_score[1][:] = np.arange(0, len(score), 1)\n",
    "all_score_trans = all_score.transpose()\n",
    "bestpoly = 0\n",
    "bestalpha = 0.0\n",
    "alpha_power_list = np.arange(-1,5,0.1)\n",
    "alpha_select_list=[math.exp(alpha_select_list) for alpha_select_list in alpha_power_list]\n",
    "score_record = pd.DataFrame(columns=['feature_num', 'poly', 'alpha_value', 'e_out', 'e_in'])\n",
    "for featuren in range(1, len(x_all.columns)+1):\n",
    "    # n feature want to keep\n",
    "    # featuren=13\n",
    "\n",
    "    full_data_processed_new = SelectKBest(f_regression, k=featuren).fit_transform(x_all, y_all)\n",
    "\n",
    "    # Ridge Regression Model\n",
    "    # 10-fold Cross Validation Involved\n",
    "    # selection of Polynomial\n",
    "    # selection of regularization alpha\n",
    "\n",
    "    polyn = 2\n",
    "    #poly nomial selection\n",
    "    for k in range(1, polyn + 1):\n",
    "        if k == 1:\n",
    "            full_data_processed_poly = full_data_processed_new\n",
    "        else:\n",
    "            poly = preprocessing.PolynomialFeatures(k)\n",
    "            full_data_processed_poly = poly.fit_transform(full_data_processed_new)\n",
    "        kf = cross_validation.KFold(len(full_data_processed_poly), n_folds=10)\n",
    "        #alpha selection\n",
    "        for alpha_select in alpha_select_list:\n",
    "            E_in = 0.0\n",
    "            E_out = 0.0\n",
    "            for train, test in kf:\n",
    "                X_train, X_test, Y_train, Y_test = full_data_processed_poly[train], full_data_processed_poly[\n",
    "                    test], \\\n",
    "                                                   y_all.iloc[train], y_all.iloc[test]\n",
    "                # Fitting use Ridge regression model\n",
    "                clf = linear_model.Ridge(alpha = alpha_select, max_iter=1000)\n",
    "                clf.fit(X_train, Y_train)\n",
    "                E_in += mean_squared_error(Y_train, clf.predict(X_train))\n",
    "                E_out += mean_squared_error(Y_test, clf.predict(X_test))\n",
    "            score_record = score_record.append(\n",
    "                pd.DataFrame([[featuren, k, alpha_select, E_out / 10.0, E_in / 10.0]],\n",
    "                             columns=['feature_num', 'poly', 'alpha_value', 'e_out', 'e_in']))\n",
    "\n",
    "print 'finished modeling'"
   ]
  },
  {
   "cell_type": "markdown",
   "metadata": {},
   "source": [
    "### Fit the best model we find\n",
    "refit model using all data and the best model we find"
   ]
  },
  {
   "cell_type": "code",
   "execution_count": null,
   "metadata": {
    "collapsed": true
   },
   "outputs": [],
   "source": [
    "score_record[score_record.score == score_record.score.min()]\n",
    "best_estimation = score_record[score_record.score == score_record.score.min()]\n",
    "\n",
    "clf = linear_model.Ridge(C=best_estimation.alpha_value[0], max_iter=10000)\n",
    "full_data_processed_new = SelectKBest(f_regression, k=best_estimation.feature_num[0]).fit_transform(x_all, y_all)\n",
    "poly = preprocessing.PolynomialFeatures(np.int(best_estimation.poly[0]))\n",
    "full_data_processed_poly = poly.fit_transform(full_data_processed_new)\n",
    "\n",
    "clf.fit(full_data_processed_poly, y_all)\n",
    "mean_squared_error(y_all, clf.predict(full_data_processed_poly))\n",
    "\n",
    "#show best feature selected\n",
    "feature_select = SelectKBest(f_regression, k=best_estimation.feature_num[0]).fit(x_all, y_all)\n",
    "np.asarray(feature_select.get_feature_names())[f_regression.get_support()]"
   ]
  },
  {
   "cell_type": "markdown",
   "metadata": {},
   "source": [
    "### Best Model we find is \n",
    "\n",
    "Using feature: all of them\n",
    "\n",
    "Choose 2-polynomial: 2\n",
    "\n",
    "best alpha to use: \n"
   ]
  },
  {
   "cell_type": "code",
   "execution_count": null,
   "metadata": {
    "collapsed": true
   },
   "outputs": [],
   "source": [
    "print best_estimation"
   ]
  },
  {
   "cell_type": "markdown",
   "metadata": {},
   "source": [
    "## Prediction"
   ]
  },
  {
   "cell_type": "markdown",
   "metadata": {},
   "source": [
    "### Predict with test dataset we get"
   ]
  },
  {
   "cell_type": "code",
   "execution_count": null,
   "metadata": {
    "collapsed": true
   },
   "outputs": [],
   "source": [
    "feature_select = SelectKBest(f_regression, k=best_estimation.feature_num[0]).fit(x_all, y_all)\n",
    "test_data_processed_new = feature_select.transform(full_data_test[columns_to_run])\n",
    "test_data_processed_poly = poly.fit_transform(test_data_processed_new)\n",
    "\n",
    "# Prediction\n",
    "predicted_value = pd.DataFrame(clf.predict(test_data_processed_poly), columns=['shopping_time'])\n",
    "test_id = test_trip[['trip_id']].astype(int)\n",
    "test_id.index = range(len(test_id))\n",
    "predicted_value_pd = pd.concat([test_id, predicted_value], axis=1)"
   ]
  },
  {
   "cell_type": "markdown",
   "metadata": {},
   "source": [
    "### Output predict result"
   ]
  },
  {
   "cell_type": "code",
   "execution_count": null,
   "metadata": {
    "collapsed": true
   },
   "outputs": [],
   "source": [
    "#  OUTPUT TO CSV\n",
    "\n",
    "predicted_value_pd.to_csv('G:/onedrive/document/python_projects/instacart/instacart-picking-time-challenge-data/predictions.csv', index=False)\n",
    "\n",
    "print 'output finish'"
   ]
  },
  {
   "cell_type": "markdown",
   "metadata": {},
   "source": [
    "### Output predict result"
   ]
  }
 ],
 "metadata": {
  "kernelspec": {
   "display_name": "Python 2",
   "language": "python",
   "name": "python2"
  },
  "language_info": {
   "codemirror_mode": {
    "name": "ipython",
    "version": 2.0
   },
   "file_extension": ".py",
   "mimetype": "text/x-python",
   "name": "python",
   "nbconvert_exporter": "python",
   "pygments_lexer": "ipython2",
   "version": "2.7.11"
  }
 },
 "nbformat": 4,
 "nbformat_minor": 0
}